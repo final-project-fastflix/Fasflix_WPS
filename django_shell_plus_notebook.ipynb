{
 "cells": [
  {
   "cell_type": "code",
   "execution_count": 1,
   "metadata": {},
   "outputs": [],
   "source": [
    "header_sub_user_id = 104"
   ]
  },
  {
   "cell_type": "code",
   "execution_count": 2,
   "metadata": {},
   "outputs": [],
   "source": [
    "my_movie_list = Movie.objects.filter(Q(like__sub_user=header_sub_user_id),\n",
    "                                             (Q(like__like_or_dislike=1) | Q(like__marked=True)))"
   ]
  },
  {
   "cell_type": "code",
   "execution_count": 44,
   "metadata": {},
   "outputs": [],
   "source": [
    "sub_user_id_list = []\n",
    "for movie in my_movie_list:\n",
    "    sub_user_id_list.append(LikeDisLikeMarked.objects.filter(movie=movie).distinct().values('sub_user'))"
   ]
  },
  {
   "cell_type": "code",
   "execution_count": 45,
   "metadata": {},
   "outputs": [
    {
     "data": {
      "text/plain": [
       "[<QuerySet [{'sub_user': 58}, {'sub_user': 57}, {'sub_user': 345}, {'sub_user': 87}, {'sub_user': 74}, {'sub_user': 141}, {'sub_user': 348}, {'sub_user': 321}, {'sub_user': 316}, {'sub_user': 319}, {'sub_user': 135}, {'sub_user': 133}, {'sub_user': 308}, {'sub_user': 104}, {'sub_user': 354}]>,\n",
       " <QuerySet [{'sub_user': 338}, {'sub_user': 301}, {'sub_user': 341}, {'sub_user': 76}, {'sub_user': 104}, {'sub_user': 136}, {'sub_user': 316}, {'sub_user': 312}, {'sub_user': 304}, {'sub_user': 349}, {'sub_user': 67}]>,\n",
       " <QuerySet [{'sub_user': 296}, {'sub_user': 337}, {'sub_user': 102}, {'sub_user': 113}, {'sub_user': 109}, {'sub_user': 324}, {'sub_user': 112}, {'sub_user': 52}, {'sub_user': 310}, {'sub_user': 67}, {'sub_user': 350}, {'sub_user': 336}, {'sub_user': 13}, {'sub_user': 104}, {'sub_user': 134}, {'sub_user': 62}, {'sub_user': 349}, {'sub_user': 85}, {'sub_user': 128}]>,\n",
       " <QuerySet [{'sub_user': 345}, {'sub_user': 92}, {'sub_user': 61}, {'sub_user': 337}, {'sub_user': 138}, {'sub_user': 312}, {'sub_user': 131}, {'sub_user': 328}, {'sub_user': 67}, {'sub_user': 336}, {'sub_user': 133}, {'sub_user': 104}, {'sub_user': 322}, {'sub_user': 313}, {'sub_user': 136}, {'sub_user': 354}, {'sub_user': 62}, {'sub_user': 48}]>,\n",
       " <QuerySet [{'sub_user': 101}, {'sub_user': 87}, {'sub_user': 74}, {'sub_user': 54}, {'sub_user': 114}, {'sub_user': 113}, {'sub_user': 14}, {'sub_user': 66}, {'sub_user': 328}, {'sub_user': 52}, {'sub_user': 310}, {'sub_user': 83}, {'sub_user': 105}, {'sub_user': 204}, {'sub_user': 104}, {'sub_user': 84}, {'sub_user': 55}, {'sub_user': 75}, {'sub_user': 128}, {'sub_user': 311}, '...(remaining elements truncated)...']>]"
      ]
     },
     "execution_count": 45,
     "metadata": {},
     "output_type": "execute_result"
    }
   ],
   "source": [
    "sub_user_id_list"
   ]
  },
  {
   "cell_type": "code",
   "execution_count": 6,
   "metadata": {},
   "outputs": [],
   "source": [
    "from functools import reduce"
   ]
  },
  {
   "cell_type": "code",
   "execution_count": 61,
   "metadata": {
    "scrolled": true
   },
   "outputs": [
    {
     "name": "stdout",
     "output_type": "stream",
     "text": [
      "5\n",
      "[58, 57, 345, 87, 74, 141, 348, 321, 316, 319, 135, 133, 308, 354, 338, 301, 341, 76, 136, 316, 312, 304, 349, 67, 296, 337, 102, 113, 109, 324, 112, 52, 310, 67, 350, 336, 13, 134, 62, 349, 85, 128, 345, 92, 61, 337, 138, 312, 131, 328, 67, 336, 133, 322, 313, 136, 354, 62, 48, 101, 87, 74, 54, 114, 113, 14, 66, 328, 52, 310, 83, 105, 204, 84, 55, 75, 128, 311, 91, 78]\n"
     ]
    }
   ],
   "source": [
    "li = []\n",
    "for sub_user_id in sub_user_id_list:\n",
    "    for sub_user in sub_user_id:\n",
    "        li.append(sub_user['sub_user'])\n",
    "cnt = li.count(104)\n",
    "print(cnt)\n",
    "for _ in range(cnt):\n",
    "    li.remove(104)\n",
    "print(li)"
   ]
  },
  {
   "cell_type": "code",
   "execution_count": 63,
   "metadata": {},
   "outputs": [
    {
     "data": {
      "text/plain": [
       "128"
      ]
     },
     "execution_count": 63,
     "metadata": {},
     "output_type": "execute_result"
    }
   ],
   "source": [
    "import operator\n",
    "word = reduce(lambda dic, b : dic.update({b:dic.get(b,0)+1}) or dic, li, {})\n",
    "word_sorted = sorted(word.items(), key=operator.itemgetter(1))\n",
    "word_sorted[-3][0]"
   ]
  },
  {
   "cell_type": "code",
   "execution_count": 133,
   "metadata": {
    "scrolled": false
   },
   "outputs": [
    {
     "name": "stdout",
     "output_type": "stream",
     "text": [
      "<QuerySet [<Movie: 쎄븐>, <Movie: 큐브>, <Movie: 침묵>, <Movie: 의뢰인>, <Movie: 죠스>]>\n",
      "\n",
      "\n",
      "\n",
      "<QuerySet [<Movie: 매그놀리아>, <Movie: 고스트 워>, <Movie: 괴물>, <Movie: 사바하>]>\n",
      "4\n",
      "<QuerySet [<Movie: 매그놀리아>, <Movie: 고스트 워>, <Movie: 직쏘>, <Movie: 사바하>, <Movie: 괴물>]>\n",
      "5\n",
      "<QuerySet [<Movie: 플립>, <Movie: 매그놀리아>, <Movie: 고스트 워>, <Movie: 직쏘>, <Movie: 업>, <Movie: 인시디어스 3>, <Movie: 괴물>, <Movie: 사바하>]>\n",
      "8\n",
      "<QuerySet [<Movie: 위자>, <Movie: 매그놀리아>, <Movie: 플립>, <Movie: 고스트 워>, <Movie: 퍼펙션>, <Movie: 직쏘>, <Movie: 업>, <Movie: 인시디어스 3>, <Movie: 사바하>, <Movie: 괴물>]>\n",
      "10\n",
      "<QuerySet [<Movie: 업>, <Movie: 바바둑>, <Movie: 인시디어스 3>, <Movie: 나의 마더>, <Movie: 사바하>, <Movie: 괴물>, <Movie: 은혼>, <Movie: 위자>, <Movie: 플립>, <Movie: 매그놀리아>, <Movie: 고스트 워>, <Movie: 직쏘>, <Movie: 퍼펙션>]>\n",
      "13\n",
      "<QuerySet [<Movie: 위자>, <Movie: 매그놀리아>, <Movie: 퍼펙션>, <Movie: 직쏘>, <Movie: 맨 인 블랙>, <Movie: 인시디어스 3>, <Movie: 괴물>, <Movie: 은혼>, <Movie: 시크릿 옵세션>, <Movie: 플립>, <Movie: 고스트 워>, <Movie: 업>, <Movie: 바바둑>, <Movie: 사바하>, <Movie: 나의 마더>]>\n",
      "15\n",
      "<QuerySet [<Movie: 위자>, <Movie: 그래비티>, <Movie: 매그놀리아>, <Movie: 직쏘>, <Movie: 퍼펙션>, <Movie: 맨 인 블랙>, <Movie: 빅 히어로>, <Movie: 인시디어스 3>, <Movie: 괴물>, <Movie: 은혼>, <Movie: 시크릿 옵세션>, <Movie: 플립>, <Movie: 고스트 워>, <Movie: 업>, <Movie: 바바둑>, <Movie: 나의 마더>, <Movie: 사바하>]>\n",
      "17\n",
      "<QuerySet [<Movie: 위자>, <Movie: 그래비티>, <Movie: 매그놀리아>, <Movie: 퍼펙션>, <Movie: 직쏘>, <Movie: 맨 인 블랙>, <Movie: 빅 히어로>, <Movie: 인시디어스 3>, <Movie: 오 마이 그랜파>, <Movie: 괴물>, <Movie: 은혼>, <Movie: 시크릿 옵세션>, <Movie: 플립>, <Movie: 고스트 워>, <Movie: 업>, <Movie: 바바둑>, <Movie: 사바하>, <Movie: 나의 마더>]>\n",
      "18\n",
      "<QuerySet [<Movie: 위자>, <Movie: 그래비티>, <Movie: 매그놀리아>, <Movie: 직쏘>, <Movie: 퍼펙션>, <Movie: 맨 인 블랙>, <Movie: 체인지 업>, <Movie: 빅 히어로>, <Movie: 인시디어스 3>, <Movie: 괴물>, <Movie: 오 마이 그랜파>, <Movie: 은혼>, <Movie: 시크릿 옵세션>, <Movie: 플립>, <Movie: 고스트 워>, <Movie: 업>, <Movie: 바바둑>, <Movie: 투모로우>, <Movie: 나의 마더>, <Movie: 사바하>]>\n",
      "20\n"
     ]
    }
   ],
   "source": [
    "idx = -1\n",
    "movie_list = Movie.objects.filter(Q(like__sub_user=word_sorted[-1][0]), ~Q(like__like_or_dislike=2))\n",
    "movie_list |= Movie.objects.filter(Q(like__sub_user=word_sorted[idx][0]), ~Q(like__like_or_dislike=2))\n",
    "print(my_movie_list)\n",
    "print()\n",
    "# print(movie_list)\n",
    "print()\n",
    "# print(movie_list.difference(my_movie_list))\n",
    "print()\n",
    "# movie_list = movie_list | Movie.objects.filter(Q(like__sub_user=word_sorted[-2][0]), ~Q(like__like_or_dislike=2))\n",
    "# print(movie_list)\n",
    "# print()\n",
    "# movie_list = movie_list.difference(my_movie_list)\n",
    "# print(movie_list)\n",
    "# print()\n",
    "# movie_list = movie_list.union(Movie.objects.filter(Q(like__sub_user=word_sorted[-3][0]), ~Q(like__like_or_dislike=2)))\n",
    "# movie_list = movie_list.difference(my_movie_list)\n",
    "# print(movie_list)\n",
    "# print()\n",
    "# movie_list = movie_list | Movie.objects.filter(Q(like__sub_user=word_sorted[-4][0]), ~Q(like__like_or_dislike=2))\n",
    "# print(movie_list.difference(my_movie_list))\n",
    "# print()\n",
    "# movie_list = movie_list | Movie.objects.filter(Q(like__sub_user=word_sorted[-5][0]), ~Q(like__like_or_dislike=2))\n",
    "# print(movie_list.difference(my_movie_list))\n",
    "# print()\n",
    "# movie_list = movie_list | Movie.objects.filter(Q(like__sub_user=word_sorted[-6][0]), ~Q(like__like_or_dislike=2))\n",
    "# print(movie_list.difference(my_movie_list).distinct())\n",
    "# print()\n",
    "# movie_list = movie_list | Movie.objects.filter(Q(like__sub_user=word_sorted[-7][0]), ~Q(like__like_or_dislike=2))\n",
    "# print(movie_list.difference(my_movie_list).distinct())\n",
    "# print()\n",
    "# movie_list = movie_list | Movie.objects.filter(Q(like__sub_user=word_sorted[-8][0]), ~Q(like__like_or_dislike=2))\n",
    "# print(movie_list.difference(my_movie_list).distinct())\n",
    "# print()\n",
    "# movie_list = movie_list | Movie.objects.filter(Q(like__sub_user=word_sorted[-9][0]), ~Q(like__like_or_dislike=2))\n",
    "# print(movie_list.difference(my_movie_list).distinct())\n",
    "# print()\n",
    "# movie_list = movie_list | Movie.objects.filter(Q(like__sub_user=word_sorted[-10][0]), ~Q(like__like_or_dislike=2))\n",
    "# print(movie_list.difference(my_movie_list).distinct())\n",
    "# print()\n",
    "# movie_list = movie_list | Movie.objects.filter(Q(like__sub_user=word_sorted[-11][0]), ~Q(like__like_or_dislike=2))\n",
    "# print(movie_list.difference(my_movie_list).distinct())\n",
    "# print()\n",
    "# movie_list = movie_list | Movie.objects.filter(Q(like__sub_user=word_sorted[-12][0]), ~Q(like__like_or_dislike=2))\n",
    "# print(movie_list.difference(my_movie_list).distinct())\n",
    "# movie_list = movie_list.difference(my_movie_list).distinct()\n",
    "# print(movie_list)\n",
    "# print(movie_list.count())\n",
    "\n",
    "\n",
    "idx_substract = 1\n",
    "while movie_list.count() < 20:\n",
    "    idx = idx - idx_substract  \n",
    "    movie_list = movie_list.union(Movie.objects.filter(Q(like__sub_user=word_sorted[idx][0]), ~Q(like__like_or_dislike=2)))\n",
    "    movie_list = movie_list.difference(my_movie_list)\n",
    "    print(movie_list.difference(my_movie_list))\n",
    "    print(movie_list.difference(my_movie_list).count())\n",
    "    movie_list = movie_list.difference(my_movie_list)\n",
    "\n",
    "\n",
    "    \n"
   ]
  },
  {
   "cell_type": "code",
   "execution_count": null,
   "metadata": {},
   "outputs": [],
   "source": []
  }
 ],
 "metadata": {
  "kernelspec": {
   "display_name": "Django Shell-Plus",
   "language": "python",
   "name": "django_extensions"
  },
  "language_info": {
   "codemirror_mode": {
    "name": "ipython",
    "version": 3
   },
   "file_extension": ".py",
   "mimetype": "text/x-python",
   "name": "python",
   "nbconvert_exporter": "python",
   "pygments_lexer": "ipython3",
   "version": "3.6.8"
  }
 },
 "nbformat": 4,
 "nbformat_minor": 2
}
