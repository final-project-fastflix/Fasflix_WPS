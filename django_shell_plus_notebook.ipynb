{
 "cells": [
  {
   "cell_type": "code",
   "execution_count": 124,
   "metadata": {},
   "outputs": [],
   "source": [
    "q = Q(like_or_dislike=1) | Q(marked=True)"
   ]
  },
  {
   "cell_type": "code",
   "execution_count": 15,
   "metadata": {
    "scrolled": false
   },
   "outputs": [
    {
     "ename": "AttributeError",
     "evalue": "'QuerySet' object has no attribute 'name'",
     "output_type": "error",
     "traceback": [
      "\u001b[0;31m---------------------------------------------------------------------------\u001b[0m",
      "\u001b[0;31mAttributeError\u001b[0m                            Traceback (most recent call last)",
      "\u001b[0;32m<ipython-input-15-e605c9c9464e>\u001b[0m in \u001b[0;36m<module>\u001b[0;34m\u001b[0m\n\u001b[1;32m      1\u001b[0m \u001b[0mli\u001b[0m \u001b[0;34m=\u001b[0m \u001b[0mMovie\u001b[0m\u001b[0;34m.\u001b[0m\u001b[0mobjects\u001b[0m\u001b[0;34m.\u001b[0m\u001b[0mall\u001b[0m\u001b[0;34m(\u001b[0m\u001b[0;34m)\u001b[0m\u001b[0;34m[\u001b[0m\u001b[0;34m:\u001b[0m\u001b[0;36m5\u001b[0m\u001b[0;34m]\u001b[0m\u001b[0;34m\u001b[0m\u001b[0;34m\u001b[0m\u001b[0m\n\u001b[1;32m      2\u001b[0m \u001b[0;34m\u001b[0m\u001b[0m\n\u001b[0;32m----> 3\u001b[0;31m \u001b[0masdf\u001b[0m \u001b[0;34m=\u001b[0m \u001b[0mlist\u001b[0m\u001b[0;34m(\u001b[0m\u001b[0mmap\u001b[0m\u001b[0;34m(\u001b[0m\u001b[0;32mlambda\u001b[0m \u001b[0mz\u001b[0m\u001b[0;34m:\u001b[0m \u001b[0mz\u001b[0m\u001b[0;34m.\u001b[0m\u001b[0mname\u001b[0m \u001b[0;34m,\u001b[0m\u001b[0mlist\u001b[0m\u001b[0;34m(\u001b[0m\u001b[0mmap\u001b[0m\u001b[0;34m(\u001b[0m\u001b[0;32mlambda\u001b[0m \u001b[0my\u001b[0m\u001b[0;34m:\u001b[0m \u001b[0my\u001b[0m\u001b[0;34m,\u001b[0m \u001b[0mlist\u001b[0m\u001b[0;34m(\u001b[0m\u001b[0mmap\u001b[0m\u001b[0;34m(\u001b[0m\u001b[0;32mlambda\u001b[0m \u001b[0mx\u001b[0m\u001b[0;34m:\u001b[0m\u001b[0mx\u001b[0m\u001b[0;34m.\u001b[0m\u001b[0mactors\u001b[0m\u001b[0;34m.\u001b[0m\u001b[0mall\u001b[0m\u001b[0;34m(\u001b[0m\u001b[0;34m)\u001b[0m \u001b[0;34m,\u001b[0m \u001b[0mli\u001b[0m\u001b[0;34m)\u001b[0m\u001b[0;34m)\u001b[0m\u001b[0;34m)\u001b[0m\u001b[0;34m)\u001b[0m\u001b[0;34m)\u001b[0m\u001b[0;34m)\u001b[0m\u001b[0;34m\u001b[0m\u001b[0;34m\u001b[0m\u001b[0m\n\u001b[0m\u001b[1;32m      4\u001b[0m \u001b[0;34m\u001b[0m\u001b[0m\n\u001b[1;32m      5\u001b[0m \u001b[0masdf\u001b[0m\u001b[0;34m\u001b[0m\u001b[0;34m\u001b[0m\u001b[0m\n",
      "\u001b[0;32m<ipython-input-15-e605c9c9464e>\u001b[0m in \u001b[0;36m<lambda>\u001b[0;34m(z)\u001b[0m\n\u001b[1;32m      1\u001b[0m \u001b[0mli\u001b[0m \u001b[0;34m=\u001b[0m \u001b[0mMovie\u001b[0m\u001b[0;34m.\u001b[0m\u001b[0mobjects\u001b[0m\u001b[0;34m.\u001b[0m\u001b[0mall\u001b[0m\u001b[0;34m(\u001b[0m\u001b[0;34m)\u001b[0m\u001b[0;34m[\u001b[0m\u001b[0;34m:\u001b[0m\u001b[0;36m5\u001b[0m\u001b[0;34m]\u001b[0m\u001b[0;34m\u001b[0m\u001b[0;34m\u001b[0m\u001b[0m\n\u001b[1;32m      2\u001b[0m \u001b[0;34m\u001b[0m\u001b[0m\n\u001b[0;32m----> 3\u001b[0;31m \u001b[0masdf\u001b[0m \u001b[0;34m=\u001b[0m \u001b[0mlist\u001b[0m\u001b[0;34m(\u001b[0m\u001b[0mmap\u001b[0m\u001b[0;34m(\u001b[0m\u001b[0;32mlambda\u001b[0m \u001b[0mz\u001b[0m\u001b[0;34m:\u001b[0m \u001b[0mz\u001b[0m\u001b[0;34m.\u001b[0m\u001b[0mname\u001b[0m \u001b[0;34m,\u001b[0m\u001b[0mlist\u001b[0m\u001b[0;34m(\u001b[0m\u001b[0mmap\u001b[0m\u001b[0;34m(\u001b[0m\u001b[0;32mlambda\u001b[0m \u001b[0my\u001b[0m\u001b[0;34m:\u001b[0m \u001b[0my\u001b[0m\u001b[0;34m,\u001b[0m \u001b[0mlist\u001b[0m\u001b[0;34m(\u001b[0m\u001b[0mmap\u001b[0m\u001b[0;34m(\u001b[0m\u001b[0;32mlambda\u001b[0m \u001b[0mx\u001b[0m\u001b[0;34m:\u001b[0m\u001b[0mx\u001b[0m\u001b[0;34m.\u001b[0m\u001b[0mactors\u001b[0m\u001b[0;34m.\u001b[0m\u001b[0mall\u001b[0m\u001b[0;34m(\u001b[0m\u001b[0;34m)\u001b[0m \u001b[0;34m,\u001b[0m \u001b[0mli\u001b[0m\u001b[0;34m)\u001b[0m\u001b[0;34m)\u001b[0m\u001b[0;34m)\u001b[0m\u001b[0;34m)\u001b[0m\u001b[0;34m)\u001b[0m\u001b[0;34m)\u001b[0m\u001b[0;34m\u001b[0m\u001b[0;34m\u001b[0m\u001b[0m\n\u001b[0m\u001b[1;32m      4\u001b[0m \u001b[0;34m\u001b[0m\u001b[0m\n\u001b[1;32m      5\u001b[0m \u001b[0masdf\u001b[0m\u001b[0;34m\u001b[0m\u001b[0;34m\u001b[0m\u001b[0m\n",
      "\u001b[0;31mAttributeError\u001b[0m: 'QuerySet' object has no attribute 'name'"
     ]
    }
   ],
   "source": [
    "li = Movie.objects.all()[:5]\n"
   ]
  },
  {
   "cell_type": "code",
   "execution_count": 252,
   "metadata": {},
   "outputs": [],
   "source": [
    "import re, random"
   ]
  },
  {
   "cell_type": "code",
   "execution_count": 245,
   "metadata": {
    "scrolled": true
   },
   "outputs": [
    {
     "name": "stdout",
     "output_type": "stream",
     "text": [
      "0.2571428571428571\n",
      "\n",
      "{'스릴러', '바탕', '시대물', '디즈니', '도서', '어린이', '블록버스터', '자연', '한국', '어드벤처', '범죄', '초자연', '코믹북', '장르', '여름과', '영화', 'LGBTQ', '드라마', '좋은', '미국', '인물', '장편영화', '실존', '다큐멘터리', '액션', 'ost가', '관련된', '슈퍼히어로', '실화', '전기', '원작', '가족', '십대', '과학', '미스터리'} 35\n",
      "\n",
      "{'미국', '스릴러', '블록버스터', '한국', '어드벤처', '범죄', '다큐멘터리', '액션', '영화'} 9\n",
      "\n"
     ]
    }
   ],
   "source": [
    "A = set()\n",
    "B = set()\n",
    "import random as rnd\n",
    "p = re.compile(r'[^\\s^,^&^·]+')\n",
    "\n",
    "\n",
    "like_list_movie = LikeDisLikeMarked.objects.filter(Q(sub_user=207), q).select_related('movie').prefetch_related('movie__genre')\n",
    "\n",
    "for like in like_list:\n",
    "    queryset_convert_to_list = list(like.movie.genre.values_list('name', flat=True))\n",
    "    list_convert = p.findall(','.join(queryset_convert_to_list))\n",
    "    A.update(set(list_convert))\n",
    "\n",
    "# 전체 영화중 내가 찜, 좋아요한 영화 리스트\n",
    "genre_movie_list = Movie.objects.filter(genre__name__in=list(A)).prefetch_related('genre').distinct()\n",
    "# 내가 싫어요한 영화를 제외한 전체 영화 리스트\n",
    "movie_list_without_dislike = Movie.objects.exclude(like__sub_user=207, like__like_or_dislike=2).prefetch_related('genre')\n",
    "# 두개의 리스트를 교집합\n",
    "genre_movie_list_intersection_movie_list_without_dislike = genre_movie_list.intersection(movie_list_without_dislike)\n",
    "# 교집합한 리스트에서 랜덤으로 36개 추출\n",
    "random_choice_movie = rnd.sample(list(genre_movie_list_intersection_movie_list_without_dislike), 12)\n",
    "\n",
    "# 랜덤으로 추출한 영화의 장르를 추출\n",
    "for randomm in random_choice_movie:\n",
    "    queryset_convert_to_list = list(randomm.genre.values_list('name', flat=True))\n",
    "    list_convert = p.findall(','.join(queryset_convert_to_list))\n",
    "    B.update(set(list_convert))\n",
    "\n",
    "\n",
    "print(len(A.intersection(B))/len(A.union(B)))\n",
    "print()\n",
    "print(A.union(B), len(A.union(B)))\n",
    "print()\n",
    "print(A.intersection(B), len(A.intersection(B)))\n",
    "print()\n",
    "# print(random_choice_movie)"
   ]
  },
  {
   "cell_type": "code",
   "execution_count": 407,
   "metadata": {
    "scrolled": true
   },
   "outputs": [
    {
     "name": "stdout",
     "output_type": "stream",
     "text": [
      "<QuerySet [<Movie: 아이언맨2>, <Movie: 은혼>, <Movie: 오 마이 그랜파>, <Movie: 핸콕>, <Movie: 사바하>, <Movie: 매그놀리아>, <Movie: 봄날은 간다>]>\n",
      "\n",
      "<QuerySet [<Movie: 업>, <Movie: 은혼>, <Movie: 가디언즈 오브 갤럭시>, <Movie: 핸콕>, <Movie: 투모로우>, <Movie: 봄날은 간다>, <Movie: 죠스>]>\n",
      "\n",
      "0\n"
     ]
    }
   ],
   "source": [
    "sub_user_list =[sub_user for sub_user in SubUser.objects.all().order_by(\"?\")[:30]]\n",
    "\n",
    "my_sub_user = SubUser.objects.get(id=13)\n",
    "ldm = [Movie.objects.filter(Q(like__sub_user=subuser), Q(like__marked=True)) for subuser in sub_user_list]\n",
    "\n",
    "inter_query = ldm[0]\n",
    "for l in ldm:\n",
    "    inter_query = inter_query.intersection(l)\n",
    "\n",
    "\n",
    "# print(sub_user_list)\n",
    "# print(ldm[0].values_list('movie__name'))\n",
    "print(ldm[0])\n",
    "print()\n",
    "print(ldm[1])\n",
    "# print(ldm[0].intersection(ldm[1]))\n",
    "print()\n",
    "print(inter_query.count())"
   ]
  },
  {
   "cell_type": "code",
   "execution_count": 5,
   "metadata": {},
   "outputs": [
    {
     "name": "stdout",
     "output_type": "stream",
     "text": [
      "<QuerySet [<Movie: 버레스크>, <Movie: 가루지기>, <Movie: 클루리스>, <Movie: 업>, <Movie: 가디언즈 오브 갤럭시>, <Movie: 아이언맨2>, <Movie: 그래비티>, <Movie: 다빈치 코드>, <Movie: 7월 22일>, <Movie: 쎄븐>, <Movie: 반드시 잡는다>, <Movie: 컨트롤러>, <Movie: 시월애>, <Movie: 괴물>, <Movie: 스파이더맨>, <Movie: 고스트 워>, <Movie: 클로버필드 패러독스>, <Movie: 맨 인 블랙>, <Movie: 은혼>, <Movie: 빅 히어로>, '...(remaining elements truncated)...']>\n"
     ]
    }
   ],
   "source": [
    "a_movie_list = Movie.objects.filter(Q(like__sub_user=125), (Q(like__like_or_dislike=1) | Q(like__marked=True)))\n",
    "sub_user_id_list = []\n",
    "for movie in a_movie_list:\n",
    "    sub_user_id_list.append(LikeDisLikeMarked.objects.filter(movie=movie).distinct().values('sub_user'))\n",
    "    \n",
    "# print(sub_user_id)\n",
    "        \n",
    "remove_id = set()\n",
    "for sub_user_id in sub_user_id_list:\n",
    "    for sub_user in sub_user_id:\n",
    "        remove_id.add(sub_user['sub_user'])\n",
    "\n",
    "remove_id = list(remove_id)\n",
    "# print(remove_id)\n",
    "movie_list = Movie.objects.filter(Q(like__sub_user__in=remove_id), (Q(like__like_or_dislike=1) | Q(like__marked=True))).exclude(like__sub_user=125).distinct()\n",
    "low_like_movie = Movie.objects.order_by('like_count')[:5]\n",
    "total_movie = movie_list.union(low_like_movie)\n",
    "\n",
    "print(movie_list)\n",
    "# print(type(Movie.objects.all()[:5]))"
   ]
  },
  {
   "cell_type": "code",
   "execution_count": 11,
   "metadata": {},
   "outputs": [
    {
     "data": {
      "text/plain": [
       "<QuerySet [<Movie: 성난황소>, <Movie: 감시자들>, <Movie: 도둑들>, <Movie: 안시성>, <Movie: 부산행>, <Movie: 럭키>, <Movie: 친구 2>, <Movie: 조선명탐정: 흡혈괴마의 비밀>, <Movie: 악녀>, <Movie: 토르: 천둥의 신>, <Movie: 가디언즈 오브 갤럭시>, <Movie: 신과함께-죄와 벌>, <Movie: 회사원>, <Movie: 킹스맨: 시크릿 에이전트>, <Movie: 퍼시픽 림: 업라이징>, <Movie: 모글리: 정글의 전설>, <Movie: 28주 후>, <Movie: 더 포리너>, <Movie: 에베레스트>, <Movie: 샌드 캐슬>, '...(remaining elements truncated)...']>"
      ]
     },
     "execution_count": 11,
     "metadata": {},
     "output_type": "execute_result"
    }
   ],
   "source": [
    "Movie.objects.filter(genre__name__icontains = '액션')"
   ]
  },
  {
   "cell_type": "code",
   "execution_count": null,
   "metadata": {},
   "outputs": [],
   "source": []
  }
 ],
 "metadata": {
  "kernelspec": {
   "display_name": "Django Shell-Plus",
   "language": "python",
   "name": "django_extensions"
  },
  "language_info": {
   "codemirror_mode": {
    "name": "ipython",
    "version": 3
   },
   "file_extension": ".py",
   "mimetype": "text/x-python",
   "name": "python",
   "nbconvert_exporter": "python",
   "pygments_lexer": "ipython3",
   "version": "3.6.8"
  }
 },
 "nbformat": 4,
 "nbformat_minor": 2
}
